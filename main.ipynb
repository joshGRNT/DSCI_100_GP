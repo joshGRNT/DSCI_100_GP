{
 "cells": [
  {
   "cell_type": "markdown",
   "id": "322c4969-4e10-46a5-aad3-24f0e238d122",
   "metadata": {},
   "source": [
    "<h1>Main Project File</h1>\n",
    "(unformated)"
   ]
  },
  {
   "cell_type": "code",
   "execution_count": null,
   "id": "20b1b5fe-10c6-4d91-87c1-0281a57d19ce",
   "metadata": {},
   "outputs": [],
   "source": []
  }
 ],
 "metadata": {
  "kernelspec": {
   "display_name": "Python 3 (ipykernel)",
   "language": "python",
   "name": "python3"
  },
  "language_info": {
   "codemirror_mode": {
    "name": "ipython",
    "version": 3
   },
   "file_extension": ".py",
   "mimetype": "text/x-python",
   "name": "python",
   "nbconvert_exporter": "python",
   "pygments_lexer": "ipython3",
   "version": "3.11.9"
  }
 },
 "nbformat": 4,
 "nbformat_minor": 5
}
